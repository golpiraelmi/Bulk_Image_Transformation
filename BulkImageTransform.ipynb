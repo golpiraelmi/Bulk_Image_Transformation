{
 "cells": [
  {
   "cell_type": "code",
   "execution_count": 5,
   "metadata": {},
   "outputs": [],
   "source": [
    "from PIL import Image\n",
    "import os"
   ]
  },
  {
   "cell_type": "code",
   "execution_count": 6,
   "metadata": {},
   "outputs": [],
   "source": [
    "# Finding the absolute path to the folder where the input images are located\n",
    "path = os.path.abspath('input_images/')"
   ]
  },
  {
   "cell_type": "code",
   "execution_count": 7,
   "metadata": {},
   "outputs": [],
   "source": [
    "# Defining the size of the output resized images \n",
    "size=(500,500) #500 pixels by 500 pixels"
   ]
  },
  {
   "cell_type": "code",
   "execution_count": 8,
   "metadata": {},
   "outputs": [],
   "source": [
    "for f in os.listdir(path):\n",
    "    if f.endswith('.jpg'):\n",
    "        path_image=path+'/'+f   # This creates the absolute path for each image\n",
    "        img = Image.open(path_image)\n",
    "        file_name, file_extension = os.path.splitext(f) #Separating the file name from its extension\n",
    "        \n",
    "        # saving file_name + tiff extension in the tiff_images folder\n",
    "        # You must have tiff_images folder created beforehand\n",
    "        img.save('tiff_images/{}.tiff'.format(file_name))\n",
    "        \n",
    "        # Converting all images to black and white\n",
    "        # You must have black_white folder created beforehand\n",
    "        img.convert(mode='L').save('black_white/{}_BW{}'.format(file_name, file_extension))\n",
    "\n",
    "        # Resizing all images to size given above\n",
    "        # You must have size_500 folder created beforehand\n",
    "        img.thumbnail(size)\n",
    "        img.save('size_500/{}_500{}'.format(file_name, file_extension))"
   ]
  },
  {
   "cell_type": "code",
   "execution_count": null,
   "metadata": {},
   "outputs": [],
   "source": []
  }
 ],
 "metadata": {
  "kernelspec": {
   "display_name": "Python 3",
   "language": "python",
   "name": "python3"
  },
  "language_info": {
   "codemirror_mode": {
    "name": "ipython",
    "version": 3
   },
   "file_extension": ".py",
   "mimetype": "text/x-python",
   "name": "python",
   "nbconvert_exporter": "python",
   "pygments_lexer": "ipython3",
   "version": "3.7.4"
  }
 },
 "nbformat": 4,
 "nbformat_minor": 2
}
